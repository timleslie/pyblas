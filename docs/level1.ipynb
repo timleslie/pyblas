{
 "cells": [
  {
   "cell_type": "markdown",
   "metadata": {},
   "source": [
    "### Level 1\n",
    "\n",
    "| single (s)           | double (d)    | single complex (c) | double complex (z) |                                           |\n",
    "| :---:                | :---:         | :---:          | :---:          | :---:                                             |\n",
    "| scopy                | dcopy         | ccopy          | zcopy          | $\\mathbf{y} \\leftarrow \\mathbf{x}$                                            |\n",
    "| sswap                | dswap         | cswap          | zswap          | $\\mathbf{x}, \\mathbf{y} \\leftarrow \\mathbf{y}, \\mathbf{x}$                                        |\n",
    "| sscal                | dscal         | cscal (csscal) | zscal (zdscal) | $x \\leftarrow \\alpha\\mathbf{x}$                                          |\n",
    "| saxpy                | daxpy         | caxpy          | zaxpy          | $\\mathbf{y} \\leftarrow \\alpha\\mathbf{x} + \\mathbf{y}$                                      |\n",
    "|                      |               | scabs1         | dcabs1         | $\\left\\vert\\operatorname{Re}(z_i)\\right\\vert + \\left\\vert\\operatorname{Im}(z_i)\\right\\vert$ |\n",
    "| sasum                | dasum         |                |                | $\\sum_i^N\\left\\vert x_i\\right\\vert $                              |\n",
    "|                      |               | scasum         | dzasum         | $\\sum_i^N\\left\\vert\\operatorname{Re}(z_i)\\right\\vert + \\left\\vert\\operatorname{Im}(z_i)\\right\\vert$                 |\n",
    "| sdot (sdsdot, dsdot) | ddot          | cdotu          | zdotu          | $\\mathbf{x}\\cdot\\mathbf{y}$                          |\n",
    "|                      |               | cdotc          | zdotc          | $\\mathbf{x}^H\\cdot\\mathbf{y}$                           |\n",
    "| snrm2                | dnrm2         |                |                | $\\sqrt{\\mathbf{x}\\cdot\\mathbf{x}} = \\left\\|\\mathbf{x}\\right\\|_2$ |\n",
    "|                      |               | scnrm2         | dznrm2         | $\\sqrt{\\mathbf{z}^H\\cdot\\mathbf{z}} = \\left\\|\\mathbf{z}\\right\\|_2$                             |\n",
    "| srot                 | drot          | csrot          | zdrot          | $\\left[\\begin{array}{c}x_i \\\\ y_i\\end{array}\\right] \\leftarrow \\left(\\begin{array}{cc}c & s \\\\ -s & c \\end{array}\\right) \\cdot \\left[\\begin{array}{c}x_i \\\\ y_i \\end{array}\\right]$          |\n",
    "| srotg                | drotg         | crotg          | zrotg          | $c \\leftarrow a/r\\\\ s \\leftarrow b/r \\\\ a \\leftarrow r \\\\ b \\leftarrow \"z\"$              |\n",
    "| srotm                | drotm         |                |                | $\\left[\\begin{array}{c}x_i \\\\ y_i\\end{array}\\right] \\leftarrow \\left(\\begin{array}{cc}h_1 & h_2 \\\\ h_3 & h_4\\end{array}\\right) \\cdot \\left[\\begin{array}{c} x_i \\\\ y_i\\end{array}\\right] $ |\n",
    "| srotmg               | drotmg        |                |                |                                                   |\n"
   ]
  },
  {
   "cell_type": "code",
   "execution_count": null,
   "metadata": {},
   "outputs": [],
   "source": []
  }
 ],
 "metadata": {
  "kernelspec": {
   "display_name": "Python 3",
   "language": "python",
   "name": "python3"
  },
  "language_info": {
   "codemirror_mode": {
    "name": "ipython",
    "version": 3
   },
   "file_extension": ".py",
   "mimetype": "text/x-python",
   "name": "python",
   "nbconvert_exporter": "python",
   "pygments_lexer": "ipython3",
   "version": "3.8.0"
  }
 },
 "nbformat": 4,
 "nbformat_minor": 4
}
