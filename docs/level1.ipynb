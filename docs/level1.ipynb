{
 "cells": [
  {
   "cell_type": "markdown",
   "metadata": {},
   "source": [
    "### Level 1\n",
    "\n",
    "| single (s)           | double (d)    | single complex (c) | double complex (z) |                                           |\n",
    "| :---:                | :---:         | :---:          | :---:          | :---:                                             |\n",
    "| scopy                | dcopy         | ccopy          | zcopy          | $\\mathbf{y} \\leftarrow \\mathbf{x}$                                            |\n",
    "| sswap                | dswap         | cswap          | zswap          | $\\mathbf{x}, \\mathbf{y} \\leftarrow \\mathbf{y}, \\mathbf{x}$                                        |\n",
    "| sscal                | dscal         | cscal (csscal) | zscal (zdscal) | $x \\leftarrow \\alpha\\vec{x}$                                          |\n",
    "| saxpy                | daxpy         | caxpy          | zaxpy          | $\\mathbf{y} \\leftarrow \\alpha\\mathbf{x} + \\mathbf{y}$                                      |\n",
    "|                      |               | scabs1         | dcabs1         | `=> |Re(x_i)| + |Im(x_i)|`                        |\n",
    "| sasum                | dasum         |                |                | `=> sum(|x_i|)`                                   |\n",
    "|                      |               | scasum         | dzasum         | `=> sum(|Re(x_i)| + |Im(x_i)})`                   |\n",
    "| sdot (sdsdot, dsdot) | ddot          | cdotu          | zdotu          | `=>  <x, y>`                                      |\n",
    "|                      |               | cdotc          | zdotc          | `=>  <x^H, y>`                                    |\n",
    "| snrm2                | dnrm2         |                |                | `=> sqrt(<x, x>`)                                 |\n",
    "|                      |               | scnrm2         | dznrm2         | `=> sqrt(<x^H, x>`)                               |\n",
    "| srot                 | drot          | csrot          | zdrot          | `[x_i, y_i] := [c s; -s c] * [x_i, y_i]`          |\n",
    "| srotg                | drotg         | crotg          | zrotg          | `c := a/r, s:= b/r, a :=r, b := \"z\"`              |\n",
    "| srotm                | drotm         |                |                | `[x_i, y_i] := [h_1 h_2; h_3, h_4] * [x_i, y_i] ` |\n",
    "| srotmg               | drotmg        |                |                |                                                   |\n",
    "\n"
   ]
  },
  {
   "cell_type": "code",
   "execution_count": null,
   "metadata": {},
   "outputs": [],
   "source": []
  },
  {
   "cell_type": "code",
   "execution_count": null,
   "metadata": {},
   "outputs": [],
   "source": []
  },
  {
   "cell_type": "code",
   "execution_count": null,
   "metadata": {},
   "outputs": [],
   "source": []
  },
  {
   "cell_type": "code",
   "execution_count": null,
   "metadata": {},
   "outputs": [],
   "source": []
  },
  {
   "cell_type": "code",
   "execution_count": null,
   "metadata": {},
   "outputs": [],
   "source": []
  },
  {
   "cell_type": "code",
   "execution_count": null,
   "metadata": {},
   "outputs": [],
   "source": []
  }
 ],
 "metadata": {
  "kernelspec": {
   "display_name": "Python 3",
   "language": "python",
   "name": "python3"
  },
  "language_info": {
   "codemirror_mode": {
    "name": "ipython",
    "version": 3
   },
   "file_extension": ".py",
   "mimetype": "text/x-python",
   "name": "python",
   "nbconvert_exporter": "python",
   "pygments_lexer": "ipython3",
   "version": "3.8.0"
  }
 },
 "nbformat": 4,
 "nbformat_minor": 4
}
