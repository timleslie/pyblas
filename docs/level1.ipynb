{
 "cells": [
  {
   "cell_type": "markdown",
   "metadata": {},
   "source": [
    "### Level 1\n",
    "\n",
    "The `level 1` functions operate on vectors.\n",
    "\n",
    "| single (s)           | double (d)    | single complex (c) | double complex (z) | | |\n",
    "| :---: | :---:         | :---:          | :---:          | :---: | :--- |\n",
    "| [scopy](./level1/scopy.ipynb) | [dcopy](./level1/dcopy.ipynb) | [ccopy](./level1/ccopy.ipynb) | [zcopy](./level1/zcopy.ipynb) | $\\mathbf{y} \\leftarrow \\mathbf{x}$ | Copy the vector $x$ into the vector $y$. |\n",
    "| [sswap](./level1/sswap.ipynb) | [dswap](./level1/dswap.ipynb) | [cswap](./level1/cswap.ipynb) | [zswap](./level1/zswap.ipynb) | $\\mathbf{x}, \\mathbf{y} \\leftarrow \\mathbf{y}, \\mathbf{x}$ | Swap the vectors $x$ and $y$. |\n",
    "| [sscal](./level1/sscal.ipynb) | [dscal](./level1/dscal.ipynb) | [cscal](./level1/cscal.ipynb) ([csscal](./level1/csscal.ipynb)) | [zscal](./level1/zscal.ipynb) ([zdscal](./level1/zdscal.ipynb)) | $x \\leftarrow \\alpha\\mathbf{x}$ | Scale the vector $x$ by $\\alpha$.\n",
    "| [saxpy](./level1/saxpy.ipynb) | [daxpy](./level1/daxpy.ipynb) | [caxpy](./level1/caxpy.ipynb) | [zaxpy](./level1/zaxpy.ipynb) | $\\mathbf{y} \\leftarrow \\alpha\\mathbf{x} + \\mathbf{y}$ | Add the scaled vector $\\alpha x$ to the vector $y$ |\n",
    "|                      |               | scabs1         | dcabs1         | $\\left\\vert\\mathrm{Re}(z)\\right\\vert + \\left\\vert\\mathrm{Im}(z)\\right\\vert$ |\n",
    "| sasum                | dasum         |                |                | $\\sum_i^N\\left\\vert x_i\\right\\vert $                              |\n",
    "|                      |               | scasum         | dzasum         | $\\sum_i^N\\left\\vert\\mathrm{Re}(z_i)\\right\\vert + \\left\\vert\\mathrm{Im}(z_i)\\right\\vert$                 |\n",
    "| sdot (dsdot) | ddot          | cdotu          | zdotu          | $\\mathbf{x}\\cdot\\mathbf{y}$                          |\n",
    "|                      |               | cdotc          | zdotc          | $\\mathbf{x}^H\\cdot\\mathbf{y}$                           |\n",
    "| sdsdot |           |           |           | $\\beta + \\mathbf{x}\\cdot\\mathbf{y}$                          |\n",
    "| snrm2                | dnrm2         |                |                | $\\sqrt{\\mathbf{x}\\cdot\\mathbf{x}} = \\left\\Vert\\mathbf{x}\\right\\Vert_2$ |\n",
    "|                      |               | scnrm2         | dznrm2         | $\\sqrt{\\mathbf{z}^H\\cdot\\mathbf{z}} = \\left\\|\\mathbf{z}\\right\\|_2$                             |\n",
    "| srot                 | drot          | csrot          | zdrot          | $\\begin{bmatrix}\\dots & x_i & \\dots \\\\ \\dots & y_i & \\dots\\end{bmatrix} \\leftarrow \\begin{pmatrix}c & s \\\\ -s & c \\end{pmatrix} \\cdot \\begin{bmatrix} \\dots & x_i & \\dots \\\\ \\dots & y_i & \\dots \\end{bmatrix}$          |\n",
    "| srotg                | drotg         | crotg          | zrotg          | $c \\leftarrow a/r\\\\ s \\leftarrow b/r \\\\ a \\leftarrow r \\\\ b \\leftarrow \"z\"$              |\n",
    "| srotm                | drotm         |                |                | $\\begin{bmatrix}\\dots & x_i & \\dots \\\\ \\dots & y_i & \\dots \\end{bmatrix} \\leftarrow \\begin{pmatrix}h_1 & h_2 \\\\ h_3 & h_4\\end{pmatrix} \\cdot \\begin{bmatrix} \\dots & x_i & \\dots \\\\ \\dots & y_i & \\dots \\end{bmatrix}$ |\n",
    "| srotmg               | drotmg        |                |                |                                                   |\n"
   ]
  }
 ],
 "metadata": {
  "kernelspec": {
   "display_name": "Python 3",
   "language": "python",
   "name": "python3"
  },
  "language_info": {
   "codemirror_mode": {
    "name": "ipython",
    "version": 3
   },
   "file_extension": ".py",
   "mimetype": "text/x-python",
   "name": "python",
   "nbconvert_exporter": "python",
   "pygments_lexer": "ipython3",
   "version": "3.8.0"
  }
 },
 "nbformat": 4,
 "nbformat_minor": 4
}
