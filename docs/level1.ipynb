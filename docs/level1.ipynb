{
 "cells": [
  {
   "cell_type": "markdown",
   "metadata": {},
   "source": [
    "### Level 1\n",
    "\n",
    "| single (s)           | double (d)    | single complex (c) | double complex (z) | | |\n",
    "| :---: | :---:         | :---:          | :---:          | :---: | :--- |\n",
    "| [scopy](./scopy.ipynb) | [dcopy](./dcopy.ipynb) | [ccopy](./ccopy.ipynb) | [zcopy](./zcopy.ipynb) | $\\mathbf{y} \\leftarrow \\mathbf{x}$ | Copy the vector $x$ into the vector $y$. |\n",
    "| sswap                | dswap         | cswap          | zswap          | $\\mathbf{x}, \\mathbf{y} \\leftarrow \\mathbf{y}, \\mathbf{x}$ | Swap the vectors $x$ and $y$. |\n",
    "| sscal                | dscal         | cscal (csscal) | zscal (zdscal) | $x \\leftarrow \\alpha\\mathbf{x}$ | Scale the vector $x$ by $\\alpha$.\n",
    "| saxpy                | daxpy         | caxpy          | zaxpy          | $\\mathbf{y} \\leftarrow \\alpha\\mathbf{x} + \\mathbf{y}$ | Add the scaled vector $\\alpha x$ to the vector $y$ |\n",
    "|                      |               | scabs1         | dcabs1         | $\\left\\vert\\mathrm{Re}(z_i)\\right\\vert + \\left\\vert\\mathrm{Im}(z_i)\\right\\vert$ |\n",
    "| sasum                | dasum         |                |                | $\\sum_i^N\\left\\vert x_i\\right\\vert $                              |\n",
    "|                      |               | scasum         | dzasum         | $\\sum_i^N\\left\\vert\\mathrm{Re}(z_i)\\right\\vert + \\left\\vert\\mathrm{Im}(z_i)\\right\\vert$                 |\n",
    "| sdot (dsdot) | ddot          | cdotu          | zdotu          | $\\mathbf{x}\\cdot\\mathbf{y}$                          |\n",
    "|                      |               | cdotc          | zdotc          | $\\mathbf{x}^H\\cdot\\mathbf{y}$                           |\n",
    "| sdsdot |           |           |           | $\\beta + \\mathbf{x}\\cdot\\mathbf{y}$                          |\n",
    "| snrm2                | dnrm2         |                |                | $\\sqrt{\\mathbf{x}\\cdot\\mathbf{x}} = \\left\\|\\mathbf{x}\\right\\|_2$ |\n",
    "|                      |               | scnrm2         | dznrm2         | $\\sqrt{\\mathbf{z}^H\\cdot\\mathbf{z}} = \\left\\|\\mathbf{z}\\right\\|_2$                             |\n",
    "| srot                 | drot          | csrot          | zdrot          | $\\begin{bmatrix}x_i \\\\ y_i\\end{bmatrix} \\leftarrow \\begin{pmatrix}c & s \\\\ -s & c \\end{pmatrix} \\cdot \\begin{bmatrix}x_i \\\\ y_i \\end{bmatrix}$          |\n",
    "| srotg                | drotg         | crotg          | zrotg          | $c \\leftarrow a/r\\\\ s \\leftarrow b/r \\\\ a \\leftarrow r \\\\ b \\leftarrow \"z\"$              |\n",
    "| srotm                | drotm         |                |                | $\\begin{bmatrix}x_i \\\\ y_i\\end{bmatrix} \\leftarrow \\begin{pmatrix}h_1 & h_2 \\\\ h_3 & h_4\\end{pmatrix} \\cdot \\begin{bmatrix} x_i \\\\ y_i\\end{bmatrix}$ |\n",
    "| srotmg               | drotmg        |                |                |                                                   |\n"
   ]
  }
 ],
 "metadata": {
  "kernelspec": {
   "display_name": "Python 3",
   "language": "python",
   "name": "python3"
  },
  "language_info": {
   "codemirror_mode": {
    "name": "ipython",
    "version": 3
   },
   "file_extension": ".py",
   "mimetype": "text/x-python",
   "name": "python",
   "nbconvert_exporter": "python",
   "pygments_lexer": "ipython3",
   "version": "3.8.0"
  }
 },
 "nbformat": 4,
 "nbformat_minor": 4
}
