{
 "cells": [
  {
   "cell_type": "markdown",
   "metadata": {},
   "source": [
    "# `zdscal(N, DA, ZX, INCX)`\n",
    "\n",
    "Scales a vector $\\mathbf{x}$ by a constant $\\alpha$.\n",
    "\n",
    "Operates on double-precision complex valued arrays.\n",
    "\n",
    "Input scalar $\\alpha$ is given by the double precision value `DA`.\n",
    "Input/output vector $\\mathbf{x}$ is represented as a [strided array](../strided_arrays.ipynb) `ZX`, spaced by `INCX`.\n",
    "Vector $\\mathbf{x}$ is of size `N`."
   ]
  },
  {
   "cell_type": "markdown",
   "metadata": {},
   "source": [
    "### Example usage"
   ]
  },
  {
   "cell_type": "code",
   "execution_count": 1,
   "metadata": {
    "jupyter": {
     "source_hidden": true
    }
   },
   "outputs": [],
   "source": [
    "import os\n",
    "import sys\n",
    "sys.path.insert(0, os.path.abspath(os.path.join(os.path.abspath(''), \"..\", \"..\")))"
   ]
  },
  {
   "cell_type": "code",
   "execution_count": 2,
   "metadata": {},
   "outputs": [],
   "source": [
    "import numpy as np\n",
    "from pyblas.level1 import zdscal"
   ]
  },
  {
   "cell_type": "code",
   "execution_count": 3,
   "metadata": {},
   "outputs": [],
   "source": [
    "x = np.array([1+2j, 2+3j, 3+4j], dtype=np.complex128)\n",
    "N = len(x)\n",
    "alpha = 5\n",
    "incx = 1"
   ]
  },
  {
   "cell_type": "code",
   "execution_count": 4,
   "metadata": {},
   "outputs": [
    {
     "name": "stdout",
     "output_type": "stream",
     "text": [
      "x before [1.+2.j 2.+3.j 3.+4.j]\n",
      "x after [ 5.+10.j 10.+15.j 15.+20.j]\n"
     ]
    }
   ],
   "source": [
    "print(\"x before\", x)\n",
    "zdscal(N, alpha, x, incx)\n",
    "print(\"x after\", x)"
   ]
  },
  {
   "cell_type": "markdown",
   "metadata": {},
   "source": [
    "### Docstring"
   ]
  },
  {
   "cell_type": "code",
   "execution_count": 5,
   "metadata": {
    "jupyter": {
     "source_hidden": true
    }
   },
   "outputs": [
    {
     "name": "stdout",
     "output_type": "stream",
     "text": [
      "Help on function zdscal in module pyblas.level1.zdscal:\n",
      "\n",
      "zdscal(N, DA, ZX, INCX)\n",
      "    Scales a vector, x, by a constant alpha\n",
      "    \n",
      "    Parameters\n",
      "    ----------\n",
      "    N : int\n",
      "        Number of elements in input vector\n",
      "    DA : numpy.double\n",
      "        Specifies the scalar alpha\n",
      "    ZX : numpy.ndarray\n",
      "        A double precision complex array, dimension (1 + (`N` - 1)*abs(`INCX`))\n",
      "    INCX : int\n",
      "        Storage spacing between elements of `ZX`\n",
      "    \n",
      "    Returns\n",
      "    -------\n",
      "    None\n",
      "    \n",
      "    See Also\n",
      "    --------\n",
      "    sscal : Single-precision real scaling by a real constant\n",
      "    dscal : Double-precision real scaling by a real constant\n",
      "    cscal : Single-precision complex scaling by a complex constant\n",
      "    csscal : Single-precision complex scaling by a real constant\n",
      "    zscal : Double-precision complex scaling by a complex constant\n",
      "    \n",
      "    Notes\n",
      "    -----\n",
      "    Online PyBLAS documentation: https://nbviewer.jupyter.org/github/timleslie/pyblas/blob/main/docs/zdscal.ipynb\n",
      "    Reference BLAS documentation: https://github.com/Reference-LAPACK/lapack/blob/v3.9.0/BLAS/SRC/zdscal.f\n",
      "    \n",
      "    Examples\n",
      "    --------\n",
      "    >>> x = np.array([1+2j, 2+3j, 3+4j], dtype=np.complex128)\n",
      "    >>> N = len(x)\n",
      "    >>> alpha = 5\n",
      "    >>> incx = 1\n",
      "    >>> zdscal(N, alpha, x, incx)\n",
      "    >>> print(x)\n",
      "    [ 5.+10.j 10.+15.j 15.+20.j]\n",
      "\n"
     ]
    }
   ],
   "source": [
    "help(zdscal)"
   ]
  },
  {
   "cell_type": "markdown",
   "metadata": {},
   "source": [
    "### Source code"
   ]
  },
  {
   "cell_type": "code",
   "execution_count": 6,
   "metadata": {
    "jupyter": {
     "source_hidden": true
    }
   },
   "outputs": [
    {
     "data": {
      "text/plain": [
       "\u001b[0;31mSignature:\u001b[0m \u001b[0mzdscal\u001b[0m\u001b[0;34m(\u001b[0m\u001b[0mN\u001b[0m\u001b[0;34m,\u001b[0m \u001b[0mDA\u001b[0m\u001b[0;34m,\u001b[0m \u001b[0mZX\u001b[0m\u001b[0;34m,\u001b[0m \u001b[0mINCX\u001b[0m\u001b[0;34m)\u001b[0m\u001b[0;34m\u001b[0m\u001b[0;34m\u001b[0m\u001b[0m\n",
       "\u001b[0;31mSource:\u001b[0m   \n",
       "\u001b[0;32mdef\u001b[0m \u001b[0mzdscal\u001b[0m\u001b[0;34m(\u001b[0m\u001b[0mN\u001b[0m\u001b[0;34m,\u001b[0m \u001b[0mDA\u001b[0m\u001b[0;34m,\u001b[0m \u001b[0mZX\u001b[0m\u001b[0;34m,\u001b[0m \u001b[0mINCX\u001b[0m\u001b[0;34m)\u001b[0m\u001b[0;34m:\u001b[0m\u001b[0;34m\u001b[0m\n",
       "\u001b[0;34m\u001b[0m    \u001b[0;34m\"\"\"Scales a vector, x, by a constant alpha\u001b[0m\n",
       "\u001b[0;34m\u001b[0m\n",
       "\u001b[0;34m    Parameters\u001b[0m\n",
       "\u001b[0;34m    ----------\u001b[0m\n",
       "\u001b[0;34m    N : int\u001b[0m\n",
       "\u001b[0;34m        Number of elements in input vector\u001b[0m\n",
       "\u001b[0;34m    DA : numpy.double\u001b[0m\n",
       "\u001b[0;34m        Specifies the scalar alpha\u001b[0m\n",
       "\u001b[0;34m    ZX : numpy.ndarray\u001b[0m\n",
       "\u001b[0;34m        A double precision complex array, dimension (1 + (`N` - 1)*abs(`INCX`))\u001b[0m\n",
       "\u001b[0;34m    INCX : int\u001b[0m\n",
       "\u001b[0;34m        Storage spacing between elements of `ZX`\u001b[0m\n",
       "\u001b[0;34m\u001b[0m\n",
       "\u001b[0;34m    Returns\u001b[0m\n",
       "\u001b[0;34m    -------\u001b[0m\n",
       "\u001b[0;34m    None\u001b[0m\n",
       "\u001b[0;34m\u001b[0m\n",
       "\u001b[0;34m    See Also\u001b[0m\n",
       "\u001b[0;34m    --------\u001b[0m\n",
       "\u001b[0;34m    sscal : Single-precision real scaling by a real constant\u001b[0m\n",
       "\u001b[0;34m    dscal : Double-precision real scaling by a real constant\u001b[0m\n",
       "\u001b[0;34m    cscal : Single-precision complex scaling by a complex constant\u001b[0m\n",
       "\u001b[0;34m    csscal : Single-precision complex scaling by a real constant\u001b[0m\n",
       "\u001b[0;34m    zscal : Double-precision complex scaling by a complex constant\u001b[0m\n",
       "\u001b[0;34m\u001b[0m\n",
       "\u001b[0;34m    Notes\u001b[0m\n",
       "\u001b[0;34m    -----\u001b[0m\n",
       "\u001b[0;34m    Online PyBLAS documentation: https://nbviewer.jupyter.org/github/timleslie/pyblas/blob/main/docs/zdscal.ipynb\u001b[0m\n",
       "\u001b[0;34m    Reference BLAS documentation: https://github.com/Reference-LAPACK/lapack/blob/v3.9.0/BLAS/SRC/zdscal.f\u001b[0m\n",
       "\u001b[0;34m\u001b[0m\n",
       "\u001b[0;34m    Examples\u001b[0m\n",
       "\u001b[0;34m    --------\u001b[0m\n",
       "\u001b[0;34m    >>> x = np.array([1+2j, 2+3j, 3+4j], dtype=np.complex128)\u001b[0m\n",
       "\u001b[0;34m    >>> N = len(x)\u001b[0m\n",
       "\u001b[0;34m    >>> alpha = 5\u001b[0m\n",
       "\u001b[0;34m    >>> incx = 1\u001b[0m\n",
       "\u001b[0;34m    >>> zdscal(N, alpha, x, incx)\u001b[0m\n",
       "\u001b[0;34m    >>> print(x)\u001b[0m\n",
       "\u001b[0;34m    [ 5.+10.j 10.+15.j 15.+20.j]\u001b[0m\n",
       "\u001b[0;34m    \"\"\"\u001b[0m\u001b[0;34m\u001b[0m\n",
       "\u001b[0;34m\u001b[0m    \u001b[0;32mif\u001b[0m \u001b[0mN\u001b[0m \u001b[0;34m<=\u001b[0m \u001b[0;36m0\u001b[0m\u001b[0;34m:\u001b[0m\u001b[0;34m\u001b[0m\n",
       "\u001b[0;34m\u001b[0m        \u001b[0;32mreturn\u001b[0m\u001b[0;34m\u001b[0m\n",
       "\u001b[0;34m\u001b[0m    \u001b[0mZX\u001b[0m\u001b[0;34m[\u001b[0m\u001b[0mslice_\u001b[0m\u001b[0;34m(\u001b[0m\u001b[0mN\u001b[0m\u001b[0;34m,\u001b[0m \u001b[0mINCX\u001b[0m\u001b[0;34m)\u001b[0m\u001b[0;34m]\u001b[0m \u001b[0;34m*=\u001b[0m \u001b[0mDA\u001b[0m\u001b[0;34m\u001b[0m\u001b[0;34m\u001b[0m\u001b[0m\n",
       "\u001b[0;31mFile:\u001b[0m      ~/src/pyblas/pyblas/level1/zdscal.py\n",
       "\u001b[0;31mType:\u001b[0m      function\n"
      ]
     },
     "metadata": {},
     "output_type": "display_data"
    }
   ],
   "source": [
    "zdscal??"
   ]
  }
 ],
 "metadata": {
  "kernelspec": {
   "display_name": "Python 3",
   "language": "python",
   "name": "python3"
  },
  "language_info": {
   "codemirror_mode": {
    "name": "ipython",
    "version": 3
   },
   "file_extension": ".py",
   "mimetype": "text/x-python",
   "name": "python",
   "nbconvert_exporter": "python",
   "pygments_lexer": "ipython3",
   "version": "3.8.0"
  }
 },
 "nbformat": 4,
 "nbformat_minor": 4
}
