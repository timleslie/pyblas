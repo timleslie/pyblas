{
 "cells": [
  {
   "cell_type": "markdown",
   "metadata": {},
   "source": [
    "# `sdsdot(N, SB, SX, INCX, SY, INCY)`\n",
    "\n",
    "Computes the dot product of a vector $\\mathbf{x}$ and a vector $\\mathbf{y}$ plus a constant $\\beta$.\n",
    "\n",
    "Operates on single-precision real valued arrays.\n",
    "\n",
    "Input scalar $\\beta$ is given by the double precision value `SA`.\n",
    "Input vector $\\mathbf{x}$ is represented as a [strided array](../strided_arrays.ipynb) `SX`, spaced by `INCX`.\n",
    "Input vector $\\mathbf{y}$ is represented as a [strided array](../strided_arrays.ipynb) `SY`, spaced by `INCY`.\n",
    "Both $\\mathbf{x}$ and $\\mathbf{y}$ are of size `N`."
   ]
  },
  {
   "cell_type": "markdown",
   "metadata": {},
   "source": [
    "### Example usage"
   ]
  },
  {
   "cell_type": "code",
   "execution_count": 1,
   "metadata": {
    "jupyter": {
     "source_hidden": true
    }
   },
   "outputs": [],
   "source": [
    "import os\n",
    "import sys\n",
    "sys.path.insert(0, os.path.abspath(os.path.join(os.path.abspath(''), \"..\", \"..\")))"
   ]
  },
  {
   "cell_type": "code",
   "execution_count": 2,
   "metadata": {},
   "outputs": [],
   "source": [
    "import numpy as np\n",
    "from pyblas.level1 import sdsdot"
   ]
  },
  {
   "cell_type": "code",
   "execution_count": 3,
   "metadata": {},
   "outputs": [],
   "source": [
    "x = np.array([1, 2, 3], dtype=np.single)\n",
    "y = np.array([6, 7, 8], dtype=np.single)\n",
    "N = len(x)\n",
    "incx = 1\n",
    "incy = 1\n",
    "beta = 5"
   ]
  },
  {
   "cell_type": "code",
   "execution_count": 4,
   "metadata": {},
   "outputs": [
    {
     "data": {
      "text/plain": [
       "49.0"
      ]
     },
     "execution_count": 4,
     "metadata": {},
     "output_type": "execute_result"
    }
   ],
   "source": [
    "sdsdot(N, beta, x, incx, y, incy)"
   ]
  },
  {
   "cell_type": "markdown",
   "metadata": {},
   "source": [
    "### Docstring"
   ]
  },
  {
   "cell_type": "code",
   "execution_count": 5,
   "metadata": {
    "jupyter": {
     "source_hidden": true
    }
   },
   "outputs": [
    {
     "name": "stdout",
     "output_type": "stream",
     "text": [
      "Help on function sdsdot in module pyblas.level1.sdsdot:\n",
      "\n",
      "sdsdot(N, SB, SX, INCX, SY, INCY)\n",
      "    Computes the dot-product of a vector x and a vector y plus a constant beta.\n",
      "    \n",
      "    Parameters\n",
      "    ----------\n",
      "    N : int\n",
      "        Number of elements in input vectors\n",
      "    SB : numpy.single\n",
      "        Specifies the scalar beta\n",
      "    SX : numpy.ndarray\n",
      "        A single precision real array, dimension (1 + (`N` - 1)*abs(`INCX`))\n",
      "    INCX : int\n",
      "        Storage spacing between elements of `SX`\n",
      "    SY : numpy.ndarray\n",
      "        A single precision real array, dimension (1 + (`N` - 1)*abs(`INCY`))\n",
      "    INCY : int\n",
      "        Storage spacing between elements of `SY`\n",
      "    \n",
      "    Returns\n",
      "    -------\n",
      "    numpy.single\n",
      "    \n",
      "    See Also\n",
      "    --------\n",
      "    sdot : Single-precision real dot product\n",
      "    dsdot : Single-precision real dot product (computed in double precision, returned as double precision)\n",
      "    ddot : Double-precision real dot product\n",
      "    cdotu : Single-precision complex dot product\n",
      "    cdotc : Single-precision complex conjugate dot product\n",
      "    zdotu : Double-precision complex dot product\n",
      "    zdotc : Double-precision complex conjugate dot product\n",
      "    \n",
      "    Notes\n",
      "    -----\n",
      "    Online PyBLAS documentation: https://nbviewer.jupyter.org/github/timleslie/pyblas/blob/main/docs/sdsdot.ipynb\n",
      "    Reference BLAS documentation: https://github.com/Reference-LAPACK/lapack/blob/v3.9.0/BLAS/SRC/sdsdot.f\n",
      "    \n",
      "    Examples\n",
      "    --------\n",
      "    >>> beta = 5\n",
      "    >>> x = np.array([1, 2, 3], dtype=np.single)\n",
      "    >>> y = np.array([6, 7, 8], dtype=np.single)\n",
      "    >>> N = len(x)\n",
      "    >>> incx = 1\n",
      "    >>> incy = 1\n",
      "    >>> sdot(N, beta, x, incx, y, incy)\n",
      "    49.0\n",
      "\n"
     ]
    }
   ],
   "source": [
    "help(sdsdot)"
   ]
  },
  {
   "cell_type": "markdown",
   "metadata": {},
   "source": [
    "### Source code"
   ]
  },
  {
   "cell_type": "code",
   "execution_count": 6,
   "metadata": {
    "jupyter": {
     "source_hidden": true
    }
   },
   "outputs": [
    {
     "data": {
      "text/plain": [
       "\u001b[0;31mSignature:\u001b[0m \u001b[0msdsdot\u001b[0m\u001b[0;34m(\u001b[0m\u001b[0mN\u001b[0m\u001b[0;34m,\u001b[0m \u001b[0mSB\u001b[0m\u001b[0;34m,\u001b[0m \u001b[0mSX\u001b[0m\u001b[0;34m,\u001b[0m \u001b[0mINCX\u001b[0m\u001b[0;34m,\u001b[0m \u001b[0mSY\u001b[0m\u001b[0;34m,\u001b[0m \u001b[0mINCY\u001b[0m\u001b[0;34m)\u001b[0m\u001b[0;34m\u001b[0m\u001b[0;34m\u001b[0m\u001b[0m\n",
       "\u001b[0;31mSource:\u001b[0m   \n",
       "\u001b[0;32mdef\u001b[0m \u001b[0msdsdot\u001b[0m\u001b[0;34m(\u001b[0m\u001b[0mN\u001b[0m\u001b[0;34m,\u001b[0m \u001b[0mSB\u001b[0m\u001b[0;34m,\u001b[0m \u001b[0mSX\u001b[0m\u001b[0;34m,\u001b[0m \u001b[0mINCX\u001b[0m\u001b[0;34m,\u001b[0m \u001b[0mSY\u001b[0m\u001b[0;34m,\u001b[0m \u001b[0mINCY\u001b[0m\u001b[0;34m)\u001b[0m\u001b[0;34m:\u001b[0m\u001b[0;34m\u001b[0m\n",
       "\u001b[0;34m\u001b[0m    \u001b[0;34m\"\"\"Computes the dot-product of a vector x and a vector y plus a constant beta.\u001b[0m\n",
       "\u001b[0;34m\u001b[0m\n",
       "\u001b[0;34m    Parameters\u001b[0m\n",
       "\u001b[0;34m    ----------\u001b[0m\n",
       "\u001b[0;34m    N : int\u001b[0m\n",
       "\u001b[0;34m        Number of elements in input vectors\u001b[0m\n",
       "\u001b[0;34m    SB : numpy.single\u001b[0m\n",
       "\u001b[0;34m        Specifies the scalar beta\u001b[0m\n",
       "\u001b[0;34m    SX : numpy.ndarray\u001b[0m\n",
       "\u001b[0;34m        A single precision real array, dimension (1 + (`N` - 1)*abs(`INCX`))\u001b[0m\n",
       "\u001b[0;34m    INCX : int\u001b[0m\n",
       "\u001b[0;34m        Storage spacing between elements of `SX`\u001b[0m\n",
       "\u001b[0;34m    SY : numpy.ndarray\u001b[0m\n",
       "\u001b[0;34m        A single precision real array, dimension (1 + (`N` - 1)*abs(`INCY`))\u001b[0m\n",
       "\u001b[0;34m    INCY : int\u001b[0m\n",
       "\u001b[0;34m        Storage spacing between elements of `SY`\u001b[0m\n",
       "\u001b[0;34m\u001b[0m\n",
       "\u001b[0;34m    Returns\u001b[0m\n",
       "\u001b[0;34m    -------\u001b[0m\n",
       "\u001b[0;34m    numpy.single\u001b[0m\n",
       "\u001b[0;34m\u001b[0m\n",
       "\u001b[0;34m    See Also\u001b[0m\n",
       "\u001b[0;34m    --------\u001b[0m\n",
       "\u001b[0;34m    sdot : Single-precision real dot product\u001b[0m\n",
       "\u001b[0;34m    dsdot : Single-precision real dot product (computed in double precision, returned as double precision)\u001b[0m\n",
       "\u001b[0;34m    ddot : Double-precision real dot product\u001b[0m\n",
       "\u001b[0;34m    cdotu : Single-precision complex dot product\u001b[0m\n",
       "\u001b[0;34m    cdotc : Single-precision complex conjugate dot product\u001b[0m\n",
       "\u001b[0;34m    zdotu : Double-precision complex dot product\u001b[0m\n",
       "\u001b[0;34m    zdotc : Double-precision complex conjugate dot product\u001b[0m\n",
       "\u001b[0;34m\u001b[0m\n",
       "\u001b[0;34m    Notes\u001b[0m\n",
       "\u001b[0;34m    -----\u001b[0m\n",
       "\u001b[0;34m    Online PyBLAS documentation: https://nbviewer.jupyter.org/github/timleslie/pyblas/blob/main/docs/sdsdot.ipynb\u001b[0m\n",
       "\u001b[0;34m    Reference BLAS documentation: https://github.com/Reference-LAPACK/lapack/blob/v3.9.0/BLAS/SRC/sdsdot.f\u001b[0m\n",
       "\u001b[0;34m\u001b[0m\n",
       "\u001b[0;34m    Examples\u001b[0m\n",
       "\u001b[0;34m    --------\u001b[0m\n",
       "\u001b[0;34m    >>> beta = 5\u001b[0m\n",
       "\u001b[0;34m    >>> x = np.array([1, 2, 3], dtype=np.single)\u001b[0m\n",
       "\u001b[0;34m    >>> y = np.array([6, 7, 8], dtype=np.single)\u001b[0m\n",
       "\u001b[0;34m    >>> N = len(x)\u001b[0m\n",
       "\u001b[0;34m    >>> incx = 1\u001b[0m\n",
       "\u001b[0;34m    >>> incy = 1\u001b[0m\n",
       "\u001b[0;34m    >>> sdot(N, beta, x, incx, y, incy)\u001b[0m\n",
       "\u001b[0;34m    49.0\u001b[0m\n",
       "\u001b[0;34m    \"\"\"\u001b[0m\u001b[0;34m\u001b[0m\n",
       "\u001b[0;34m\u001b[0m    \u001b[0;32mif\u001b[0m \u001b[0mN\u001b[0m \u001b[0;34m<=\u001b[0m \u001b[0;36m0\u001b[0m\u001b[0;34m:\u001b[0m\u001b[0;34m\u001b[0m\n",
       "\u001b[0;34m\u001b[0m        \u001b[0;32mreturn\u001b[0m \u001b[0mSB\u001b[0m\u001b[0;34m\u001b[0m\n",
       "\u001b[0;34m\u001b[0m    \u001b[0;32mreturn\u001b[0m \u001b[0mSB\u001b[0m \u001b[0;34m+\u001b[0m \u001b[0;34m(\u001b[0m\u001b[0;34m\u001b[0m\n",
       "\u001b[0;34m\u001b[0m        \u001b[0mSX\u001b[0m\u001b[0;34m[\u001b[0m\u001b[0mslice_\u001b[0m\u001b[0;34m(\u001b[0m\u001b[0mN\u001b[0m\u001b[0;34m,\u001b[0m \u001b[0mINCX\u001b[0m\u001b[0;34m)\u001b[0m\u001b[0;34m]\u001b[0m\u001b[0;34m.\u001b[0m\u001b[0mastype\u001b[0m\u001b[0;34m(\u001b[0m\u001b[0mnp\u001b[0m\u001b[0;34m.\u001b[0m\u001b[0mdouble\u001b[0m\u001b[0;34m)\u001b[0m \u001b[0;34m*\u001b[0m \u001b[0mSY\u001b[0m\u001b[0;34m[\u001b[0m\u001b[0mslice_\u001b[0m\u001b[0;34m(\u001b[0m\u001b[0mN\u001b[0m\u001b[0;34m,\u001b[0m \u001b[0mINCY\u001b[0m\u001b[0;34m)\u001b[0m\u001b[0;34m]\u001b[0m\u001b[0;34m.\u001b[0m\u001b[0mastype\u001b[0m\u001b[0;34m(\u001b[0m\u001b[0mnp\u001b[0m\u001b[0;34m.\u001b[0m\u001b[0mdouble\u001b[0m\u001b[0;34m)\u001b[0m\u001b[0;34m\u001b[0m\n",
       "\u001b[0;34m\u001b[0m    \u001b[0;34m)\u001b[0m\u001b[0;34m.\u001b[0m\u001b[0msum\u001b[0m\u001b[0;34m(\u001b[0m\u001b[0;34m)\u001b[0m\u001b[0;34m.\u001b[0m\u001b[0mastype\u001b[0m\u001b[0;34m(\u001b[0m\u001b[0mnp\u001b[0m\u001b[0;34m.\u001b[0m\u001b[0msingle\u001b[0m\u001b[0;34m)\u001b[0m\u001b[0;34m\u001b[0m\u001b[0;34m\u001b[0m\u001b[0m\n",
       "\u001b[0;31mFile:\u001b[0m      ~/src/pyblas/pyblas/level1/sdsdot.py\n",
       "\u001b[0;31mType:\u001b[0m      function\n"
      ]
     },
     "metadata": {},
     "output_type": "display_data"
    }
   ],
   "source": [
    "sdsdot??"
   ]
  }
 ],
 "metadata": {
  "kernelspec": {
   "display_name": "Python 3",
   "language": "python",
   "name": "python3"
  },
  "language_info": {
   "codemirror_mode": {
    "name": "ipython",
    "version": 3
   },
   "file_extension": ".py",
   "mimetype": "text/x-python",
   "name": "python",
   "nbconvert_exporter": "python",
   "pygments_lexer": "ipython3",
   "version": "3.8.0"
  }
 },
 "nbformat": 4,
 "nbformat_minor": 4
}
