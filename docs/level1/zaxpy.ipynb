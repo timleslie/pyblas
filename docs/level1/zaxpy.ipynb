{
 "cells": [
  {
   "cell_type": "markdown",
   "metadata": {},
   "source": [
    "# `zaxpy(N, ZA, ZX, INCX, ZY, INCY)`\n",
    "\n",
    "Adds a vector $\\mathbf{x}$ scaled by a constant $\\alpha$ to a vector $\\mathbf{y}$.\n",
    "\n",
    "Operates on double-precision complex valued arrays.\n",
    "\n",
    "Input scalar $\\alpha$ is given by the double precision complex value `ZA`.\n",
    "Input vector $\\mathbf{x}$ is represented as a [strided array](../strided_arrays.ipynb) `ZX`, spaced by `INCX`.\n",
    "Input/output vector $\\mathbf{y}$ is represented as a [strided array](../strided_arrays.ipynb) `ZY`, spaced by `INCY`.\n",
    "Both $\\mathbf{x}$ and $\\mathbf{y}$ are of size `N`."
   ]
  },
  {
   "cell_type": "markdown",
   "metadata": {},
   "source": [
    "### Example usage"
   ]
  },
  {
   "cell_type": "code",
   "execution_count": 1,
   "metadata": {
    "jupyter": {
     "source_hidden": true
    }
   },
   "outputs": [],
   "source": [
    "import os\n",
    "import sys\n",
    "sys.path.insert(0, os.path.abspath(os.path.join(os.path.abspath(''), \"..\", \"..\")))"
   ]
  },
  {
   "cell_type": "code",
   "execution_count": 2,
   "metadata": {},
   "outputs": [],
   "source": [
    "import numpy as np\n",
    "from pyblas.level1 import zaxpy"
   ]
  },
  {
   "cell_type": "code",
   "execution_count": 3,
   "metadata": {},
   "outputs": [],
   "source": [
    "x = np.array([1+2j, 2+3j, 3+4j], dtype=np.complex128)\n",
    "y = np.array([6+7j, 7+8j, 8+9j], dtype=np.complex128)\n",
    "N = len(x)\n",
    "alpha = 5j\n",
    "incx = 1\n",
    "incy = 1"
   ]
  },
  {
   "cell_type": "code",
   "execution_count": 4,
   "metadata": {},
   "outputs": [
    {
     "name": "stdout",
     "output_type": "stream",
     "text": [
      "y before [6.+7.j 7.+8.j 8.+9.j]\n",
      "y after [ -4.+12.j  -8.+18.j -12.+24.j]\n"
     ]
    }
   ],
   "source": [
    "print(\"y before\", y)\n",
    "zaxpy(N, alpha, x, incx, y, incx)\n",
    "print(\"y after\", y)"
   ]
  },
  {
   "cell_type": "markdown",
   "metadata": {},
   "source": [
    "### Docstring"
   ]
  },
  {
   "cell_type": "code",
   "execution_count": 5,
   "metadata": {
    "jupyter": {
     "source_hidden": true
    }
   },
   "outputs": [
    {
     "name": "stdout",
     "output_type": "stream",
     "text": [
      "Help on function zaxpy in module pyblas.level1.zaxpy:\n",
      "\n",
      "zaxpy(N, ZA, ZX, INCX, ZY, INCY)\n",
      "    Adds a vector x times a constant alpha to a vector y\n",
      "    \n",
      "    Parameters\n",
      "    ----------\n",
      "    N : int\n",
      "        Number of elements in input vector\n",
      "    ZA : numpy.complex128\n",
      "        Specifies the scalar alpha\n",
      "    ZX : numpy.ndarray\n",
      "        A double precision complex array, dimension (1 + (`N` - 1)*abs(`INCX`))\n",
      "    INCX : int\n",
      "        Storage spacing between elements of `ZX`\n",
      "    ZY : numpy.ndarray\n",
      "        A double precision complex array, dimension (1 + (`N` - 1)*abs(`INCY`))\n",
      "    INCY : int\n",
      "        Storage spacing between elements of `ZY`\n",
      "    \n",
      "    Returns\n",
      "    -------\n",
      "    None\n",
      "    \n",
      "    See Also\n",
      "    --------\n",
      "    saxpy : Single-precision real adding a scaled vector to a vector\n",
      "    daxpy : Double-precision real adding a scaled vector to a vector\n",
      "    zaxpy : Double-precision complex adding a scaled vector to a vector\n",
      "    \n",
      "    Notes\n",
      "    -----\n",
      "    Online PyBLAS documentation: https://nbviewer.jupyter.org/github/timleslie/pyblas/blob/main/docs/zaxpy.ipynb\n",
      "    Reference BLAS documentation: https://github.com/Reference-LAPACK/lapack/blob/v3.9.0/BLAS/SRC/zaxpy.f\n",
      "    \n",
      "    Examples\n",
      "    --------\n",
      "    >>> x = np.array([1+2j, 2+3j, 3+4j], dtype=np.complex128)\n",
      "    >>> y = np.array([6+7j, 7+8j, 8+9j], dtype=np.complex128)\n",
      "    >>> N = len(x)\n",
      "    >>> alpha = 5j\n",
      "    >>> incx = 1\n",
      "    >>> zaxpy(N, alpha, x, incx, y, incy)\n",
      "    >>> print(y)\n",
      "    [ -4.+12.j  -8.+18.j -12.+24.j]\n",
      "\n"
     ]
    }
   ],
   "source": [
    "help(zaxpy)"
   ]
  },
  {
   "cell_type": "markdown",
   "metadata": {},
   "source": [
    "### Source code"
   ]
  },
  {
   "cell_type": "code",
   "execution_count": 6,
   "metadata": {
    "jupyter": {
     "source_hidden": true
    }
   },
   "outputs": [
    {
     "data": {
      "text/plain": [
       "\u001b[0;31mSignature:\u001b[0m \u001b[0mzaxpy\u001b[0m\u001b[0;34m(\u001b[0m\u001b[0mN\u001b[0m\u001b[0;34m,\u001b[0m \u001b[0mZA\u001b[0m\u001b[0;34m,\u001b[0m \u001b[0mZX\u001b[0m\u001b[0;34m,\u001b[0m \u001b[0mINCX\u001b[0m\u001b[0;34m,\u001b[0m \u001b[0mZY\u001b[0m\u001b[0;34m,\u001b[0m \u001b[0mINCY\u001b[0m\u001b[0;34m)\u001b[0m\u001b[0;34m\u001b[0m\u001b[0;34m\u001b[0m\u001b[0m\n",
       "\u001b[0;31mSource:\u001b[0m   \n",
       "\u001b[0;32mdef\u001b[0m \u001b[0mzaxpy\u001b[0m\u001b[0;34m(\u001b[0m\u001b[0mN\u001b[0m\u001b[0;34m,\u001b[0m \u001b[0mZA\u001b[0m\u001b[0;34m,\u001b[0m \u001b[0mZX\u001b[0m\u001b[0;34m,\u001b[0m \u001b[0mINCX\u001b[0m\u001b[0;34m,\u001b[0m \u001b[0mZY\u001b[0m\u001b[0;34m,\u001b[0m \u001b[0mINCY\u001b[0m\u001b[0;34m)\u001b[0m\u001b[0;34m:\u001b[0m\u001b[0;34m\u001b[0m\n",
       "\u001b[0;34m\u001b[0m    \u001b[0;34m\"\"\"Adds a vector x times a constant alpha to a vector y\u001b[0m\n",
       "\u001b[0;34m\u001b[0m\n",
       "\u001b[0;34m    Parameters\u001b[0m\n",
       "\u001b[0;34m    ----------\u001b[0m\n",
       "\u001b[0;34m    N : int\u001b[0m\n",
       "\u001b[0;34m        Number of elements in input vector\u001b[0m\n",
       "\u001b[0;34m    ZA : numpy.complex128\u001b[0m\n",
       "\u001b[0;34m        Specifies the scalar alpha\u001b[0m\n",
       "\u001b[0;34m    ZX : numpy.ndarray\u001b[0m\n",
       "\u001b[0;34m        A double precision complex array, dimension (1 + (`N` - 1)*abs(`INCX`))\u001b[0m\n",
       "\u001b[0;34m    INCX : int\u001b[0m\n",
       "\u001b[0;34m        Storage spacing between elements of `ZX`\u001b[0m\n",
       "\u001b[0;34m    ZY : numpy.ndarray\u001b[0m\n",
       "\u001b[0;34m        A double precision complex array, dimension (1 + (`N` - 1)*abs(`INCY`))\u001b[0m\n",
       "\u001b[0;34m    INCY : int\u001b[0m\n",
       "\u001b[0;34m        Storage spacing between elements of `ZY`\u001b[0m\n",
       "\u001b[0;34m\u001b[0m\n",
       "\u001b[0;34m    Returns\u001b[0m\n",
       "\u001b[0;34m    -------\u001b[0m\n",
       "\u001b[0;34m    None\u001b[0m\n",
       "\u001b[0;34m\u001b[0m\n",
       "\u001b[0;34m    See Also\u001b[0m\n",
       "\u001b[0;34m    --------\u001b[0m\n",
       "\u001b[0;34m    saxpy : Single-precision real adding a scaled vector to a vector\u001b[0m\n",
       "\u001b[0;34m    daxpy : Double-precision real adding a scaled vector to a vector\u001b[0m\n",
       "\u001b[0;34m    zaxpy : Double-precision complex adding a scaled vector to a vector\u001b[0m\n",
       "\u001b[0;34m\u001b[0m\n",
       "\u001b[0;34m    Notes\u001b[0m\n",
       "\u001b[0;34m    -----\u001b[0m\n",
       "\u001b[0;34m    Online PyBLAS documentation: https://nbviewer.jupyter.org/github/timleslie/pyblas/blob/main/docs/zaxpy.ipynb\u001b[0m\n",
       "\u001b[0;34m    Reference BLAS documentation: https://github.com/Reference-LAPACK/lapack/blob/v3.9.0/BLAS/SRC/zaxpy.f\u001b[0m\n",
       "\u001b[0;34m\u001b[0m\n",
       "\u001b[0;34m    Examples\u001b[0m\n",
       "\u001b[0;34m    --------\u001b[0m\n",
       "\u001b[0;34m    >>> x = np.array([1+2j, 2+3j, 3+4j], dtype=np.complex128)\u001b[0m\n",
       "\u001b[0;34m    >>> y = np.array([6+7j, 7+8j, 8+9j], dtype=np.complex128)\u001b[0m\n",
       "\u001b[0;34m    >>> N = len(x)\u001b[0m\n",
       "\u001b[0;34m    >>> alpha = 5j\u001b[0m\n",
       "\u001b[0;34m    >>> incx = 1\u001b[0m\n",
       "\u001b[0;34m    >>> zaxpy(N, alpha, x, incx, y, incy)\u001b[0m\n",
       "\u001b[0;34m    >>> print(y)\u001b[0m\n",
       "\u001b[0;34m    [ -4.+12.j  -8.+18.j -12.+24.j]\u001b[0m\n",
       "\u001b[0;34m    \"\"\"\u001b[0m\u001b[0;34m\u001b[0m\n",
       "\u001b[0;34m\u001b[0m    \u001b[0;32mif\u001b[0m \u001b[0mN\u001b[0m \u001b[0;34m<=\u001b[0m \u001b[0;36m0\u001b[0m\u001b[0;34m:\u001b[0m\u001b[0;34m\u001b[0m\n",
       "\u001b[0;34m\u001b[0m        \u001b[0;32mreturn\u001b[0m\u001b[0;34m\u001b[0m\n",
       "\u001b[0;34m\u001b[0m    \u001b[0mZY\u001b[0m\u001b[0;34m[\u001b[0m\u001b[0mslice_\u001b[0m\u001b[0;34m(\u001b[0m\u001b[0mN\u001b[0m\u001b[0;34m,\u001b[0m \u001b[0mINCY\u001b[0m\u001b[0;34m)\u001b[0m\u001b[0;34m]\u001b[0m \u001b[0;34m+=\u001b[0m \u001b[0mZA\u001b[0m \u001b[0;34m*\u001b[0m \u001b[0mZX\u001b[0m\u001b[0;34m[\u001b[0m\u001b[0mslice_\u001b[0m\u001b[0;34m(\u001b[0m\u001b[0mN\u001b[0m\u001b[0;34m,\u001b[0m \u001b[0mINCX\u001b[0m\u001b[0;34m)\u001b[0m\u001b[0;34m]\u001b[0m\u001b[0;34m\u001b[0m\u001b[0;34m\u001b[0m\u001b[0m\n",
       "\u001b[0;31mFile:\u001b[0m      ~/src/pyblas/pyblas/level1/zaxpy.py\n",
       "\u001b[0;31mType:\u001b[0m      function\n"
      ]
     },
     "metadata": {},
     "output_type": "display_data"
    }
   ],
   "source": [
    "zaxpy??"
   ]
  }
 ],
 "metadata": {
  "kernelspec": {
   "display_name": "Python 3",
   "language": "python",
   "name": "python3"
  },
  "language_info": {
   "codemirror_mode": {
    "name": "ipython",
    "version": 3
   },
   "file_extension": ".py",
   "mimetype": "text/x-python",
   "name": "python",
   "nbconvert_exporter": "python",
   "pygments_lexer": "ipython3",
   "version": "3.8.0"
  }
 },
 "nbformat": 4,
 "nbformat_minor": 4
}
