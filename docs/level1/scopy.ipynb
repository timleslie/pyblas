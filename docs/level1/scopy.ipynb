{
 "cells": [
  {
   "cell_type": "markdown",
   "metadata": {},
   "source": [
    "# `sswap(N, SX, INCX, SY, INCY)`\n",
    "\n",
    "Swaps the contents of a vector $\\mathbf{x}$ and a vector $\\mathbf{y}$.\n",
    "\n",
    "Operates on single-precision real valued arrays.\n",
    "\n",
    "Input/output vector $\\mathbf{x}$ is represented as a [strided array](./strided_arrays.ipynb) `SX`, spaced by `INCX`.\n",
    "Input/output vector $\\mathbf{y}$ is represented as a [strided array](./strided_arrays.ipynb) `SY`, spaced by `INCY`.\n",
    "Both $\\mathbf{x}$ and $\\mathbf{y}$ are of size `N`."
   ]
  },
  {
   "cell_type": "markdown",
   "metadata": {},
   "source": [
    "### Example usage"
   ]
  },
  {
   "cell_type": "code",
   "execution_count": null,
   "metadata": {},
   "outputs": [],
   "source": [
    "import os\n",
    "import sys\n",
    "sys.path.insert(0, os.path.abspath(os.path.join(os.path.abspath(''), \"..\", \"..\")))"
   ]
  },
  {
   "cell_type": "code",
   "execution_count": null,
   "metadata": {},
   "outputs": [],
   "source": [
    "import numpy as np\n",
    "from pyblas.level1 import sswap"
   ]
  },
  {
   "cell_type": "code",
   "execution_count": null,
   "metadata": {},
   "outputs": [],
   "source": [
    "x = np.array([1, 2, 3], dtype=np.single)\n",
    "y = np.array([6, 7, 8], dtype=np.single)\n",
    "N = len(x)\n",
    "incx = 1\n",
    "incy = 1"
   ]
  },
  {
   "cell_type": "code",
   "execution_count": null,
   "metadata": {},
   "outputs": [],
   "source": [
    "print(\"x before\", x)\n",
    "print(\"y before\", y)\n",
    "sswap(N, x, incx, y, incy)\n",
    "print(\"x after\", x)\n",
    "print(\"y after\", y)"
   ]
  },
  {
   "cell_type": "markdown",
   "metadata": {},
   "source": [
    "### Docstring"
   ]
  },
  {
   "cell_type": "code",
   "execution_count": null,
   "metadata": {
    "jupyter": {
     "source_hidden": true
    }
   },
   "outputs": [],
   "source": [
    "help(sswap)"
   ]
  },
  {
   "cell_type": "markdown",
   "metadata": {},
   "source": [
    "### Source code"
   ]
  },
  {
   "cell_type": "code",
   "execution_count": null,
   "metadata": {
    "jupyter": {
     "source_hidden": true
    }
   },
   "outputs": [],
   "source": [
    "sswap??"
   ]
  }
 ],
 "metadata": {
  "kernelspec": {
   "display_name": "Python 3",
   "language": "python",
   "name": "python3"
  },
  "language_info": {
   "codemirror_mode": {
    "name": "ipython",
    "version": 3
   },
   "file_extension": ".py",
   "mimetype": "text/x-python",
   "name": "python",
   "nbconvert_exporter": "python",
   "pygments_lexer": "ipython3",
   "version": "3.8.0"
  }
 },
 "nbformat": 4,
 "nbformat_minor": 4
}
