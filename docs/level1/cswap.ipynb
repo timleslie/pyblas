{
 "cells": [
  {
   "cell_type": "markdown",
   "metadata": {},
   "source": [
    "# `cswap(N, CX, INCX, CY, INCY)`\n",
    "\n",
    "Swaps the contents of a vector $\\mathbf{x}$ with the contents of a vector $\\mathbf{y}$.\n",
    "\n",
    "Operates on single-precision complex valued arrays.\n",
    "\n",
    "Input/output vector $\\mathbf{x}$ is represented as a [strided array](../strided_arrays.ipynb) `CX`, spaced by `INCX`.\n",
    "Input/output vector $\\mathbf{y}$ is represented as a [strided array](../strided_arrays.ipynb) `CY`, spaced by `INCY`.\n",
    "Both $\\mathbf{x}$ and $\\mathbf{y}$ are of size `N`."
   ]
  },
  {
   "cell_type": "markdown",
   "metadata": {},
   "source": [
    "### Example usage"
   ]
  },
  {
   "cell_type": "code",
   "execution_count": 1,
   "metadata": {
    "jupyter": {
     "source_hidden": true
    }
   },
   "outputs": [],
   "source": [
    "import os\n",
    "import sys\n",
    "sys.path.insert(0, os.path.abspath(os.path.join(os.path.abspath(''), \"..\", \"..\")))"
   ]
  },
  {
   "cell_type": "code",
   "execution_count": 2,
   "metadata": {},
   "outputs": [],
   "source": [
    "import numpy as np\n",
    "from pyblas.level1 import cswap"
   ]
  },
  {
   "cell_type": "code",
   "execution_count": 3,
   "metadata": {},
   "outputs": [],
   "source": [
    "x = np.array([1+2j, 2+3j, 3+4j], dtype=np.complex64)\n",
    "y = np.array([6+7j, 7+8j, 8+9j], dtype=np.complex64)\n",
    "N = len(x)\n",
    "incx = 1\n",
    "incy = 1"
   ]
  },
  {
   "cell_type": "code",
   "execution_count": 4,
   "metadata": {},
   "outputs": [
    {
     "name": "stdout",
     "output_type": "stream",
     "text": [
      "x before [1.+2.j 2.+3.j 3.+4.j]\n",
      "y before [6.+7.j 7.+8.j 8.+9.j]\n",
      "x after [6.+7.j 7.+8.j 8.+9.j]\n",
      "y after [1.+2.j 2.+3.j 3.+4.j]\n"
     ]
    }
   ],
   "source": [
    "print(\"x before\", x)\n",
    "print(\"y before\", y)\n",
    "cswap(N, x, incx, y, incy)\n",
    "print(\"x after\", x)\n",
    "print(\"y after\", y)"
   ]
  },
  {
   "cell_type": "markdown",
   "metadata": {},
   "source": [
    "### Docstring"
   ]
  },
  {
   "cell_type": "code",
   "execution_count": 5,
   "metadata": {
    "jupyter": {
     "source_hidden": true
    }
   },
   "outputs": [
    {
     "name": "stdout",
     "output_type": "stream",
     "text": [
      "Help on function cswap in module pyblas.level1.cswap:\n",
      "\n",
      "cswap(N, CX, INCX, CY, INCY)\n",
      "    Swaps the contents of a vector x with a vector y\n",
      "    \n",
      "    Parameters\n",
      "    ----------\n",
      "    N : int\n",
      "        Number of elements in input vector\n",
      "    CX : numpy.ndarray\n",
      "        A single precision complex array, dimension (1 + (`N` - 1)*abs(`INCX`))\n",
      "    INCX : int\n",
      "        Storage spacing between elements of `CX`\n",
      "    CY : numpy.ndarray\n",
      "        A single precision complex array, dimension (1 + (`N` - 1)*abs(`INCY`))\n",
      "    INCY : int\n",
      "        Storage spacing between elements of `CY`\n",
      "    \n",
      "    Returns\n",
      "    -------\n",
      "    None\n",
      "    \n",
      "    See Also\n",
      "    --------\n",
      "    sswap : Single-precision real swap two vectors\n",
      "    dswap : Double-precision real swap two vectors\n",
      "    zswap : Double-precision complex swap two vectors\n",
      "    \n",
      "    Notes\n",
      "    -----\n",
      "    Online PyBLAS documentation: https://nbviewer.jupyter.org/github/timleslie/pyblas/blob/main/docs/cswap.ipynb\n",
      "    Reference BLAS documentation: https://github.com/Reference-LAPACK/lapack/blob/v3.9.0/BLAS/SRC/cswap.f\n",
      "    \n",
      "    Examples\n",
      "    --------\n",
      "    >>> x = np.array([1+2j, 2+3j, 3+4j], dtype=np.complex64)\n",
      "    >>> y = np.array([6+7j, 7+8j, 8+9j], dtype=np.complex64)\n",
      "    >>> N = len(x)\n",
      "    >>> incx = 1\n",
      "    >>> cswap(N, x, incx, y, incy)\n",
      "    >>> print(x)\n",
      "    [6+7j, 7+8j, 8+9j]\n",
      "    >>> print(y)\n",
      "    [1+2j, 2+3j, 3+4j]\n",
      "\n"
     ]
    }
   ],
   "source": [
    "help(cswap)"
   ]
  },
  {
   "cell_type": "markdown",
   "metadata": {},
   "source": [
    "### Source code"
   ]
  },
  {
   "cell_type": "code",
   "execution_count": 6,
   "metadata": {
    "jupyter": {
     "source_hidden": true
    }
   },
   "outputs": [
    {
     "data": {
      "text/plain": [
       "\u001b[0;31mSignature:\u001b[0m \u001b[0mcswap\u001b[0m\u001b[0;34m(\u001b[0m\u001b[0mN\u001b[0m\u001b[0;34m,\u001b[0m \u001b[0mCX\u001b[0m\u001b[0;34m,\u001b[0m \u001b[0mINCX\u001b[0m\u001b[0;34m,\u001b[0m \u001b[0mCY\u001b[0m\u001b[0;34m,\u001b[0m \u001b[0mINCY\u001b[0m\u001b[0;34m)\u001b[0m\u001b[0;34m\u001b[0m\u001b[0;34m\u001b[0m\u001b[0m\n",
       "\u001b[0;31mSource:\u001b[0m   \n",
       "\u001b[0;32mdef\u001b[0m \u001b[0mcswap\u001b[0m\u001b[0;34m(\u001b[0m\u001b[0mN\u001b[0m\u001b[0;34m,\u001b[0m \u001b[0mCX\u001b[0m\u001b[0;34m,\u001b[0m \u001b[0mINCX\u001b[0m\u001b[0;34m,\u001b[0m \u001b[0mCY\u001b[0m\u001b[0;34m,\u001b[0m \u001b[0mINCY\u001b[0m\u001b[0;34m)\u001b[0m\u001b[0;34m:\u001b[0m\u001b[0;34m\u001b[0m\n",
       "\u001b[0;34m\u001b[0m    \u001b[0;34m\"\"\"Swaps the contents of a vector x with a vector y\u001b[0m\n",
       "\u001b[0;34m\u001b[0m\n",
       "\u001b[0;34m    Parameters\u001b[0m\n",
       "\u001b[0;34m    ----------\u001b[0m\n",
       "\u001b[0;34m    N : int\u001b[0m\n",
       "\u001b[0;34m        Number of elements in input vector\u001b[0m\n",
       "\u001b[0;34m    CX : numpy.ndarray\u001b[0m\n",
       "\u001b[0;34m        A single precision complex array, dimension (1 + (`N` - 1)*abs(`INCX`))\u001b[0m\n",
       "\u001b[0;34m    INCX : int\u001b[0m\n",
       "\u001b[0;34m        Storage spacing between elements of `CX`\u001b[0m\n",
       "\u001b[0;34m    CY : numpy.ndarray\u001b[0m\n",
       "\u001b[0;34m        A single precision complex array, dimension (1 + (`N` - 1)*abs(`INCY`))\u001b[0m\n",
       "\u001b[0;34m    INCY : int\u001b[0m\n",
       "\u001b[0;34m        Storage spacing between elements of `CY`\u001b[0m\n",
       "\u001b[0;34m\u001b[0m\n",
       "\u001b[0;34m    Returns\u001b[0m\n",
       "\u001b[0;34m    -------\u001b[0m\n",
       "\u001b[0;34m    None\u001b[0m\n",
       "\u001b[0;34m\u001b[0m\n",
       "\u001b[0;34m    See Also\u001b[0m\n",
       "\u001b[0;34m    --------\u001b[0m\n",
       "\u001b[0;34m    sswap : Single-precision real swap two vectors\u001b[0m\n",
       "\u001b[0;34m    dswap : Double-precision real swap two vectors\u001b[0m\n",
       "\u001b[0;34m    zswap : Double-precision complex swap two vectors\u001b[0m\n",
       "\u001b[0;34m\u001b[0m\n",
       "\u001b[0;34m    Notes\u001b[0m\n",
       "\u001b[0;34m    -----\u001b[0m\n",
       "\u001b[0;34m    Online PyBLAS documentation: https://nbviewer.jupyter.org/github/timleslie/pyblas/blob/main/docs/cswap.ipynb\u001b[0m\n",
       "\u001b[0;34m    Reference BLAS documentation: https://github.com/Reference-LAPACK/lapack/blob/v3.9.0/BLAS/SRC/cswap.f\u001b[0m\n",
       "\u001b[0;34m\u001b[0m\n",
       "\u001b[0;34m    Examples\u001b[0m\n",
       "\u001b[0;34m    --------\u001b[0m\n",
       "\u001b[0;34m    >>> x = np.array([1+2j, 2+3j, 3+4j], dtype=np.complex64)\u001b[0m\n",
       "\u001b[0;34m    >>> y = np.array([6+7j, 7+8j, 8+9j], dtype=np.complex64)\u001b[0m\n",
       "\u001b[0;34m    >>> N = len(x)\u001b[0m\n",
       "\u001b[0;34m    >>> incx = 1\u001b[0m\n",
       "\u001b[0;34m    >>> cswap(N, x, incx, y, incy)\u001b[0m\n",
       "\u001b[0;34m    >>> print(x)\u001b[0m\n",
       "\u001b[0;34m    [6+7j, 7+8j, 8+9j]\u001b[0m\n",
       "\u001b[0;34m    >>> print(y)\u001b[0m\n",
       "\u001b[0;34m    [1+2j, 2+3j, 3+4j]\u001b[0m\n",
       "\u001b[0;34m    \"\"\"\u001b[0m\u001b[0;34m\u001b[0m\n",
       "\u001b[0;34m\u001b[0m    \u001b[0;32mif\u001b[0m \u001b[0mN\u001b[0m \u001b[0;34m<=\u001b[0m \u001b[0;36m0\u001b[0m\u001b[0;34m:\u001b[0m\u001b[0;34m\u001b[0m\n",
       "\u001b[0;34m\u001b[0m        \u001b[0;32mreturn\u001b[0m\u001b[0;34m\u001b[0m\n",
       "\u001b[0;34m\u001b[0m    \u001b[0mx_slice\u001b[0m \u001b[0;34m=\u001b[0m \u001b[0mslice_\u001b[0m\u001b[0;34m(\u001b[0m\u001b[0mN\u001b[0m\u001b[0;34m,\u001b[0m \u001b[0mINCX\u001b[0m\u001b[0;34m)\u001b[0m\u001b[0;34m\u001b[0m\n",
       "\u001b[0;34m\u001b[0m    \u001b[0my_slice\u001b[0m \u001b[0;34m=\u001b[0m \u001b[0mslice_\u001b[0m\u001b[0;34m(\u001b[0m\u001b[0mN\u001b[0m\u001b[0;34m,\u001b[0m \u001b[0mINCY\u001b[0m\u001b[0;34m)\u001b[0m\u001b[0;34m\u001b[0m\n",
       "\u001b[0;34m\u001b[0m    \u001b[0mX_TEMP\u001b[0m \u001b[0;34m=\u001b[0m \u001b[0mCX\u001b[0m\u001b[0;34m[\u001b[0m\u001b[0mx_slice\u001b[0m\u001b[0;34m]\u001b[0m\u001b[0;34m.\u001b[0m\u001b[0mcopy\u001b[0m\u001b[0;34m(\u001b[0m\u001b[0;34m)\u001b[0m\u001b[0;34m\u001b[0m\n",
       "\u001b[0;34m\u001b[0m    \u001b[0mCX\u001b[0m\u001b[0;34m[\u001b[0m\u001b[0mx_slice\u001b[0m\u001b[0;34m]\u001b[0m \u001b[0;34m=\u001b[0m \u001b[0mCY\u001b[0m\u001b[0;34m[\u001b[0m\u001b[0my_slice\u001b[0m\u001b[0;34m]\u001b[0m\u001b[0;34m\u001b[0m\n",
       "\u001b[0;34m\u001b[0m    \u001b[0mCY\u001b[0m\u001b[0;34m[\u001b[0m\u001b[0mx_slice\u001b[0m\u001b[0;34m]\u001b[0m \u001b[0;34m=\u001b[0m \u001b[0mX_TEMP\u001b[0m\u001b[0;34m\u001b[0m\u001b[0;34m\u001b[0m\u001b[0m\n",
       "\u001b[0;31mFile:\u001b[0m      ~/src/pyblas/pyblas/level1/cswap.py\n",
       "\u001b[0;31mType:\u001b[0m      function\n"
      ]
     },
     "metadata": {},
     "output_type": "display_data"
    }
   ],
   "source": [
    "cswap??"
   ]
  }
 ],
 "metadata": {
  "kernelspec": {
   "display_name": "Python 3",
   "language": "python",
   "name": "python3"
  },
  "language_info": {
   "codemirror_mode": {
    "name": "ipython",
    "version": 3
   },
   "file_extension": ".py",
   "mimetype": "text/x-python",
   "name": "python",
   "nbconvert_exporter": "python",
   "pygments_lexer": "ipython3",
   "version": "3.8.0"
  }
 },
 "nbformat": 4,
 "nbformat_minor": 4
}
