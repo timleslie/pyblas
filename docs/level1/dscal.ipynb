{
 "cells": [
  {
   "cell_type": "markdown",
   "metadata": {},
   "source": [
    "# `dscal(N, DA, DX, INCX)`\n",
    "\n",
    "Scales a vector $\\mathbf{x}$ by a constant $\\alpha$.\n",
    "\n",
    "Operates on double-precision real valued arrays.\n",
    "\n",
    "Input scalar $\\alpha$ is given by the double precision value `DA`.\n",
    "Input/output vector $\\mathbf{x}$ is represented as a [strided array](../strided_arrays.ipynb) `DX`, spaced by `INCX`.\n",
    "Vector $\\mathbf{x}$ is of size `N`."
   ]
  },
  {
   "cell_type": "markdown",
   "metadata": {},
   "source": [
    "### Example usage"
   ]
  },
  {
   "cell_type": "code",
   "execution_count": 1,
   "metadata": {
    "jupyter": {
     "source_hidden": true
    }
   },
   "outputs": [],
   "source": [
    "import os\n",
    "import sys\n",
    "sys.path.insert(0, os.path.abspath(os.path.join(os.path.abspath(''), \"..\", \"..\")))"
   ]
  },
  {
   "cell_type": "code",
   "execution_count": 2,
   "metadata": {},
   "outputs": [],
   "source": [
    "import numpy as np\n",
    "from pyblas.level1 import dscal"
   ]
  },
  {
   "cell_type": "code",
   "execution_count": 3,
   "metadata": {},
   "outputs": [],
   "source": [
    "x = np.array([1, 2, 3], dtype=np.double)\n",
    "N = len(x)\n",
    "alpha = 5\n",
    "incx = 1"
   ]
  },
  {
   "cell_type": "code",
   "execution_count": 4,
   "metadata": {},
   "outputs": [
    {
     "name": "stdout",
     "output_type": "stream",
     "text": [
      "x before [1. 2. 3.]\n",
      "x after [ 5. 10. 15.]\n"
     ]
    }
   ],
   "source": [
    "print(\"x before\", x)\n",
    "dscal(N, alpha, x, incx)\n",
    "print(\"x after\", x)"
   ]
  },
  {
   "cell_type": "markdown",
   "metadata": {},
   "source": [
    "### Docstring"
   ]
  },
  {
   "cell_type": "code",
   "execution_count": 5,
   "metadata": {
    "jupyter": {
     "source_hidden": true
    }
   },
   "outputs": [
    {
     "name": "stdout",
     "output_type": "stream",
     "text": [
      "Help on function dscal in module pyblas.level1.dscal:\n",
      "\n",
      "dscal(N, DA, DX, INCX)\n",
      "    Scales a vector, x, by a constant alpha\n",
      "    \n",
      "    Parameters\n",
      "    ----------\n",
      "    N : int\n",
      "        Number of elements in input vector\n",
      "    DA : numpy.single\n",
      "        Specifies the scalar alpha\n",
      "    DX : numpy.ndarray\n",
      "        A double precision real array, dimension (1 + (`N` - 1)*abs(`INCX`))\n",
      "    INCX : int\n",
      "        Storage spacing between elements of `DX`\n",
      "    \n",
      "    Returns\n",
      "    -------\n",
      "    None\n",
      "    \n",
      "    See Also\n",
      "    --------\n",
      "    sscal : Single-precision real scaling by a real constant\n",
      "    cscal : Single-precision complex scaling by a complex constant\n",
      "    csscal : Single-precision complex scaling by a real constant\n",
      "    zscal : Double-precision complex scaling by a complex constant\n",
      "    zdscal : Double-precision complex scaling by a real constant\n",
      "    \n",
      "    Notes\n",
      "    -----\n",
      "    Online PyBLAS documentation: https://nbviewer.jupyter.org/github/timleslie/pyblas/blob/main/docs/dscal.ipynb\n",
      "    Reference BLAS documentation: https://github.com/Reference-LAPACK/lapack/blob/v3.9.0/BLAS/SRC/dscal.f\n",
      "    \n",
      "    Examples\n",
      "    --------\n",
      "    >>> x = np.array([1, 2, 3], dtype=np.double)\n",
      "    >>> N = len(x)\n",
      "    >>> alpha = 5\n",
      "    >>> incx = 1\n",
      "    >>> dscal(N, alpha, x, incx)\n",
      "    >>> print(y)\n",
      "    [5. 10. 15.]\n",
      "\n"
     ]
    }
   ],
   "source": [
    "help(dscal)"
   ]
  },
  {
   "cell_type": "markdown",
   "metadata": {},
   "source": [
    "### Source code"
   ]
  },
  {
   "cell_type": "code",
   "execution_count": 6,
   "metadata": {
    "jupyter": {
     "source_hidden": true
    }
   },
   "outputs": [
    {
     "data": {
      "text/plain": [
       "\u001b[0;31mSignature:\u001b[0m \u001b[0mdscal\u001b[0m\u001b[0;34m(\u001b[0m\u001b[0mN\u001b[0m\u001b[0;34m,\u001b[0m \u001b[0mDA\u001b[0m\u001b[0;34m,\u001b[0m \u001b[0mDX\u001b[0m\u001b[0;34m,\u001b[0m \u001b[0mINCX\u001b[0m\u001b[0;34m)\u001b[0m\u001b[0;34m\u001b[0m\u001b[0;34m\u001b[0m\u001b[0m\n",
       "\u001b[0;31mSource:\u001b[0m   \n",
       "\u001b[0;32mdef\u001b[0m \u001b[0mdscal\u001b[0m\u001b[0;34m(\u001b[0m\u001b[0mN\u001b[0m\u001b[0;34m,\u001b[0m \u001b[0mDA\u001b[0m\u001b[0;34m,\u001b[0m \u001b[0mDX\u001b[0m\u001b[0;34m,\u001b[0m \u001b[0mINCX\u001b[0m\u001b[0;34m)\u001b[0m\u001b[0;34m:\u001b[0m\u001b[0;34m\u001b[0m\n",
       "\u001b[0;34m\u001b[0m    \u001b[0;34m\"\"\"Scales a vector, x, by a constant alpha\u001b[0m\n",
       "\u001b[0;34m\u001b[0m\n",
       "\u001b[0;34m    Parameters\u001b[0m\n",
       "\u001b[0;34m    ----------\u001b[0m\n",
       "\u001b[0;34m    N : int\u001b[0m\n",
       "\u001b[0;34m        Number of elements in input vector\u001b[0m\n",
       "\u001b[0;34m    DA : numpy.single\u001b[0m\n",
       "\u001b[0;34m        Specifies the scalar alpha\u001b[0m\n",
       "\u001b[0;34m    DX : numpy.ndarray\u001b[0m\n",
       "\u001b[0;34m        A double precision real array, dimension (1 + (`N` - 1)*abs(`INCX`))\u001b[0m\n",
       "\u001b[0;34m    INCX : int\u001b[0m\n",
       "\u001b[0;34m        Storage spacing between elements of `DX`\u001b[0m\n",
       "\u001b[0;34m\u001b[0m\n",
       "\u001b[0;34m    Returns\u001b[0m\n",
       "\u001b[0;34m    -------\u001b[0m\n",
       "\u001b[0;34m    None\u001b[0m\n",
       "\u001b[0;34m\u001b[0m\n",
       "\u001b[0;34m    See Also\u001b[0m\n",
       "\u001b[0;34m    --------\u001b[0m\n",
       "\u001b[0;34m    sscal : Single-precision real scaling by a real constant\u001b[0m\n",
       "\u001b[0;34m    cscal : Single-precision complex scaling by a complex constant\u001b[0m\n",
       "\u001b[0;34m    csscal : Single-precision complex scaling by a real constant\u001b[0m\n",
       "\u001b[0;34m    zscal : Double-precision complex scaling by a complex constant\u001b[0m\n",
       "\u001b[0;34m    zdscal : Double-precision complex scaling by a real constant\u001b[0m\n",
       "\u001b[0;34m\u001b[0m\n",
       "\u001b[0;34m    Notes\u001b[0m\n",
       "\u001b[0;34m    -----\u001b[0m\n",
       "\u001b[0;34m    Online PyBLAS documentation: https://nbviewer.jupyter.org/github/timleslie/pyblas/blob/main/docs/dscal.ipynb\u001b[0m\n",
       "\u001b[0;34m    Reference BLAS documentation: https://github.com/Reference-LAPACK/lapack/blob/v3.9.0/BLAS/SRC/dscal.f\u001b[0m\n",
       "\u001b[0;34m\u001b[0m\n",
       "\u001b[0;34m    Examples\u001b[0m\n",
       "\u001b[0;34m    --------\u001b[0m\n",
       "\u001b[0;34m    >>> x = np.array([1, 2, 3], dtype=np.double)\u001b[0m\n",
       "\u001b[0;34m    >>> N = len(x)\u001b[0m\n",
       "\u001b[0;34m    >>> alpha = 5\u001b[0m\n",
       "\u001b[0;34m    >>> incx = 1\u001b[0m\n",
       "\u001b[0;34m    >>> dscal(N, alpha, x, incx)\u001b[0m\n",
       "\u001b[0;34m    >>> print(y)\u001b[0m\n",
       "\u001b[0;34m    [5. 10. 15.]\u001b[0m\n",
       "\u001b[0;34m    \"\"\"\u001b[0m\u001b[0;34m\u001b[0m\n",
       "\u001b[0;34m\u001b[0m    \u001b[0;32mif\u001b[0m \u001b[0mN\u001b[0m \u001b[0;34m<=\u001b[0m \u001b[0;36m0\u001b[0m\u001b[0;34m:\u001b[0m\u001b[0;34m\u001b[0m\n",
       "\u001b[0;34m\u001b[0m        \u001b[0;32mreturn\u001b[0m\u001b[0;34m\u001b[0m\n",
       "\u001b[0;34m\u001b[0m    \u001b[0mDX\u001b[0m\u001b[0;34m[\u001b[0m\u001b[0mslice_\u001b[0m\u001b[0;34m(\u001b[0m\u001b[0mN\u001b[0m\u001b[0;34m,\u001b[0m \u001b[0mINCX\u001b[0m\u001b[0;34m)\u001b[0m\u001b[0;34m]\u001b[0m \u001b[0;34m*=\u001b[0m \u001b[0mDA\u001b[0m\u001b[0;34m\u001b[0m\u001b[0;34m\u001b[0m\u001b[0m\n",
       "\u001b[0;31mFile:\u001b[0m      ~/src/pyblas/pyblas/level1/dscal.py\n",
       "\u001b[0;31mType:\u001b[0m      function\n"
      ]
     },
     "metadata": {},
     "output_type": "display_data"
    }
   ],
   "source": [
    "dscal??"
   ]
  }
 ],
 "metadata": {
  "kernelspec": {
   "display_name": "Python 3",
   "language": "python",
   "name": "python3"
  },
  "language_info": {
   "codemirror_mode": {
    "name": "ipython",
    "version": 3
   },
   "file_extension": ".py",
   "mimetype": "text/x-python",
   "name": "python",
   "nbconvert_exporter": "python",
   "pygments_lexer": "ipython3",
   "version": "3.8.0"
  }
 },
 "nbformat": 4,
 "nbformat_minor": 4
}
