{
 "cells": [
  {
   "cell_type": "markdown",
   "metadata": {},
   "source": [
    "The Given's transform to eliminate $z_1$ is given by\n",
    "\n",
    "$GW = \\begin{pmatrix} c & s \\\\ -s & c \\end{pmatrix}\\begin{pmatrix} w_1 & \\dots & w_n \\\\ z_1 & \\dots & z_n \\end{pmatrix}$\n",
    "\n",
    "where $c = \\frac{w_1}{r}$, $s = \\frac{z_1}{r}$, and $r = \\sqrt{w_1^2 + z_1^2}$.\n",
    "\n",
    "We can pick arbitrary values for a diagonal matrix $D$ such that\n",
    "\n",
    "$W = D^{\\frac{1}{2}}X = \\begin{pmatrix}d_1^{\\frac{1}{2}} & 0 \\\\ 0 & d_2^{\\frac{1}{2}} \\end{pmatrix}\\begin{pmatrix} x_1 & \\dots & x_n \\\\ y_1 & \\dots & y_n \\end{pmatrix}$\n",
    "\n",
    "where ${w_1} = d_1^\\frac{1}{2}x_1$, ${z_1} = d_2^\\frac{1}{2}y_1$\n",
    "\n",
    "Susituting this into $GW$ gives\n",
    "\n",
    "$GW = GD^{\\frac{1}{2}}X = \\tilde{D}^{\\frac{1}{2}}HX = \\begin{pmatrix}\\tilde{d}_1^{\\frac{1}{2}} & 0 \\\\ 0 & \\tilde{d}_2^{\\frac{1}{2}} \\end{pmatrix}HX$\n",
    "\n",
    "Writing our transform in this form allows us to chose the scaling matrix $\\tilde{D}$ in such a way that two of the elements of $H$ are equal to $1$, which elimates these two multiplications when applying the rotation matrix to $X$.\n",
    "\n",
    "Based on the symmetry of $G$ there are two ways we can create $\\tilde{D}^{\\frac{1}{2}}H$ with the desired properties. We will chose these based on the magnitudes of $c$ and $s$ to maintain numerical stability.\n",
    "\n",
    "If $|s| < |c|$ then we choose\n",
    "\n",
    "$GD^\\frac{1}{2} = \\begin{pmatrix}d_1^\\frac{1}{2}c & d_2^\\frac{1}{2}s \\\\ -sd_1^\\frac{1}{2}s & d_2^\\frac{1}{2}c \\end{pmatrix} = \\begin{pmatrix}d_1^\\frac{1}{2}c & 0 \\\\ 0 & d_2^\\frac{1}{2}c \\end{pmatrix}\\begin{pmatrix} 1 & \\frac{s}{c}\\left(\\frac{d_2}{d_1}\\right)^\\frac{1}{2} \\\\ -\\frac{s}{c}\\left(\\frac{d_1}{d_2}\\right)^\\frac{1}{2}& 1 \\end{pmatrix}$\n",
    "\n",
    "and since $s = \\frac{z_1}{r}$ and $c = \\frac{w_1}{r}$, we have $\\frac{s}{c} = \\frac{z_1}{w_1} = \\frac{y_1}{x_1}\\left(\\frac{d_2}{d_1}\\right)^\\frac{1}{2}$, so\n",
    "\n",
    "$GD^\\frac{1}{2} = \\begin{pmatrix}d_1^\\frac{1}{2}c & 0 \\\\ 0 & d_2^\\frac{1}{2}c \\end{pmatrix}\\begin{pmatrix} 1 & \\frac{d_2y_1}{d_1x_1} \\\\ -\\frac{y_1}{x_1} & 1 \\end{pmatrix} = \\tilde{D}^{\\frac{1}{2}}H$\n",
    "\n",
    "where $\\tilde{d}_1 = d_1c^2$ and $\\tilde{d}_2 = d_2c^2$. We can write the non-unit elements of $H$ as $h_{12} = \\frac{d_2y_1}{d_1x_1}$ and $h_{21} = -\\frac{y_1}{x_1}$.\n",
    "\n",
    "If we introduce a paramter $t = \\frac{s}{c}$ then we have the identities $c^2 = \\frac{1}{1 + t^2}$ and $t^2 = \\frac{d_2y^2}{d_1x^2} = -h_{12}h_{21}$. From these identites we get $\\tilde{d}_1 = \\frac{d_1}{1 - h_{12}h_{21}}$ and $\\tilde{d}_2 = \\frac{d_2}{1 - h_{12}h_{21}}$.\n",
    "\n",
    "Finally, we can verify the result of applying $H$ to the vector $(x_1, y_1)$.\n",
    "\n",
    "$\\begin{pmatrix} 1 & h_{12} \\\\ h_{21} & 1 \\end{pmatrix}\\begin{pmatrix}x_1 \\\\ y_1 \\end{pmatrix} = \\begin{pmatrix}x_1 + h_{12}y_1 \\\\ h_{21}x_1 + y_1\\end{pmatrix} = \\begin{pmatrix} x_1 + \\frac{d_2y_1}{d_1x_1}y_1\\\\ -\\frac{y_1}{x_1}x_1 + y_1 \\end{pmatrix} = \\begin{pmatrix} x_1\\left(1 - h_{12}h_{21} \\right)\\\\ 0 \\end{pmatrix}$"
   ]
  },
  {
   "cell_type": "markdown",
   "metadata": {},
   "source": [
    "For the case $|c| \\leq |s|$ we can similary write\n",
    "\n",
    "$GD^\\frac{1}{2} = \\begin{pmatrix}d_1^\\frac{1}{2}c & d_2^\\frac{1}{2}s \\\\ -sd_1^\\frac{1}{2}s & d_2^\\frac{1}{2}c \\end{pmatrix} = \\begin{pmatrix}d_2^\\frac{1}{2}s & 0 \\\\ 0 & d_1^\\frac{1}{2}s \\end{pmatrix}\\begin{pmatrix} \\frac{c}{s}\\left(\\frac{d_1}{d_2}\\right)^\\frac{1}{2} & 1 \\\\ -1 &  \\frac{c}{s}\\left(\\frac{d_2}{d_1}\\right)^\\frac{1}{2} \\end{pmatrix} = \\begin{pmatrix}d_2^\\frac{1}{2}s & 0 \\\\ 0 & d_1^\\frac{1}{2}s \\end{pmatrix} \\begin{pmatrix} \\frac{d_1x_1}{d_2y_1} & 1 \\\\ -1 & \\frac{x_1}{y_1}  \\end{pmatrix} = \\tilde{D}^\\frac{1}{2}H$"
   ]
  },
  {
   "cell_type": "markdown",
   "metadata": {},
   "source": [
    "where $\\tilde{d}_1 = d_1s^2$, $\\tilde{d}_2 = d_2s^2$, and $h_{11} = \\frac{d_1x_1}{d_2y_1}$, $h_{22} = \\frac{x_1}{y_1}$."
   ]
  },
  {
   "cell_type": "markdown",
   "metadata": {},
   "source": [
    "In this case we define the parameter $t = \\frac{c}{s}$ which gives us $s^2 = \\frac{1}{1 + t^2}$ and $t^2 = \\frac{d_1x_1}{d_2y_2} = h_{11}h_{22}$. Once again applying $H$ to $\\left(x_1, y_1\\right)$ gives\n",
    "\n",
    "$\\begin{pmatrix}h_{11} & 1 \\\\ -1 & h_{22}\\end{pmatrix}\\begin{pmatrix}x_1 \\\\ y_1\\end{pmatrix} = \\begin{pmatrix} h_{11}x_1 + y_1 \\\\ -x_1 + h_{22}y_1\\end{pmatrix} = \\begin{pmatrix}\\frac{d_1x_1}{d_2y_1}x_1 + y_1 \\\\ -x_1 + \\frac{x_1}{y_1}x_1 \\end{pmatrix} = \\begin{pmatrix} y_1\\left(1 + h_{11}h_{22}\\right) \\\\ 0\\end{pmatrix}$"
   ]
  },
  {
   "cell_type": "code",
   "execution_count": null,
   "metadata": {},
   "outputs": [],
   "source": []
  }
 ],
 "metadata": {
  "kernelspec": {
   "display_name": "Python 3",
   "language": "python",
   "name": "python3"
  },
  "language_info": {
   "codemirror_mode": {
    "name": "ipython",
    "version": 3
   },
   "file_extension": ".py",
   "mimetype": "text/x-python",
   "name": "python",
   "nbconvert_exporter": "python",
   "pygments_lexer": "ipython3",
   "version": "3.8.0"
  }
 },
 "nbformat": 4,
 "nbformat_minor": 4
}
