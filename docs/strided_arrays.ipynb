{
 "cells": [
  {
   "cell_type": "markdown",
   "metadata": {},
   "source": [
    "# Strided arrays\n",
    "\n",
    "Vectors are 1 dimensional mathematical objects, which can be represented with numpy arrays.\n",
    "\n",
    "The vector $x = \\begin{bmatrix}1 \\\\ 2 \\\\ 3\\end{bmatrix}$ can naturally be stored in an array,"
   ]
  },
  {
   "cell_type": "code",
   "execution_count": 1,
   "metadata": {
    "jupyter": {
     "source_hidden": true
    }
   },
   "outputs": [],
   "source": [
    "import numpy as np"
   ]
  },
  {
   "cell_type": "code",
   "execution_count": 2,
   "metadata": {},
   "outputs": [
    {
     "name": "stdout",
     "output_type": "stream",
     "text": [
      "[1 2 3]\n"
     ]
    }
   ],
   "source": [
    "x = np.array([1, 2, 3])\n",
    "print(x)"
   ]
  },
  {
   "cell_type": "markdown",
   "metadata": {},
   "source": [
    "We could also store the vector in an array where the values are spaced 2 apart,"
   ]
  },
  {
   "cell_type": "code",
   "execution_count": 3,
   "metadata": {},
   "outputs": [
    {
     "name": "stdout",
     "output_type": "stream",
     "text": [
      "[1 0 2 0 3 0]\n"
     ]
    }
   ],
   "source": [
    "x = np.array([1, 0, 2, 0, 3, 0])\n",
    "print(x)"
   ]
  },
  {
   "cell_type": "markdown",
   "metadata": {},
   "source": [
    "In this case, to recover the values of the vector we need to slice the array using a stride value of 2."
   ]
  },
  {
   "cell_type": "code",
   "execution_count": 4,
   "metadata": {},
   "outputs": [
    {
     "data": {
      "text/plain": [
       "array([1, 2, 3])"
      ]
     },
     "execution_count": 4,
     "metadata": {},
     "output_type": "execute_result"
    }
   ],
   "source": [
    "x[::2]"
   ]
  },
  {
   "cell_type": "markdown",
   "metadata": {},
   "source": [
    "The stride value is also called the `increment` value, and is named with a correspondance to the array. For the array `x`, we would call the `increment` value `incx`. We can use this value to access the vector values"
   ]
  },
  {
   "cell_type": "code",
   "execution_count": 5,
   "metadata": {},
   "outputs": [
    {
     "data": {
      "text/plain": [
       "array([1, 2, 3])"
      ]
     },
     "execution_count": 5,
     "metadata": {},
     "output_type": "execute_result"
    }
   ],
   "source": [
    "incx = 2\n",
    "x[::incx]"
   ]
  },
  {
   "cell_type": "markdown",
   "metadata": {},
   "source": [
    "The array can also be stored with extra unused values added on the end,"
   ]
  },
  {
   "cell_type": "code",
   "execution_count": 6,
   "metadata": {},
   "outputs": [
    {
     "name": "stdout",
     "output_type": "stream",
     "text": [
      "[1 0 2 0 3 0 0 0]\n"
     ]
    }
   ],
   "source": [
    "x = np.array([1, 0, 2, 0, 3, 0, 0, 0])\n",
    "print(x)"
   ]
  },
  {
   "cell_type": "markdown",
   "metadata": {},
   "source": [
    "In this case we need to know the size of the vector, $N$, as well as the spacing in order to recover the vector values. "
   ]
  },
  {
   "cell_type": "code",
   "execution_count": 7,
   "metadata": {},
   "outputs": [
    {
     "data": {
      "text/plain": [
       "array([1, 2, 3])"
      ]
     },
     "execution_count": 7,
     "metadata": {},
     "output_type": "execute_result"
    }
   ],
   "source": [
    "N = 3\n",
    "incx = 2\n",
    "x[:N*incx:incx]"
   ]
  },
  {
   "cell_type": "markdown",
   "metadata": {},
   "source": [
    "Another way of storing the values of $x$ is with the values stored in reverse order in an array."
   ]
  },
  {
   "cell_type": "code",
   "execution_count": 8,
   "metadata": {},
   "outputs": [
    {
     "name": "stdout",
     "output_type": "stream",
     "text": [
      "[3 2 1]\n"
     ]
    }
   ],
   "source": [
    "x = np.array([3, 2, 1])\n",
    "print(x)"
   ]
  },
  {
   "cell_type": "markdown",
   "metadata": {},
   "source": [
    "This storage pattern corresponds to an `increment` of `-1`, so we can recover the values of the vector as such:"
   ]
  },
  {
   "cell_type": "code",
   "execution_count": 9,
   "metadata": {},
   "outputs": [
    {
     "data": {
      "text/plain": [
       "array([1, 2, 3])"
      ]
     },
     "execution_count": 9,
     "metadata": {},
     "output_type": "execute_result"
    }
   ],
   "source": [
    "incx = -1\n",
    "x[::incx]"
   ]
  },
  {
   "cell_type": "markdown",
   "metadata": {},
   "source": [
    "If we include padding in the array then we also need to know $N$, the size of the vector, in order to recover the values."
   ]
  },
  {
   "cell_type": "code",
   "execution_count": 10,
   "metadata": {},
   "outputs": [
    {
     "data": {
      "text/plain": [
       "array([1, 2, 3])"
      ]
     },
     "execution_count": 10,
     "metadata": {},
     "output_type": "execute_result"
    }
   ],
   "source": [
    "x = np.array([3, 2, 1, 0, 0, 0])\n",
    "N = 3\n",
    "incx = -1\n",
    "x[N-1::incx]"
   ]
  },
  {
   "cell_type": "markdown",
   "metadata": {},
   "source": [
    "Finally, we can store the values of `x` in reverse order with a fixed spacing, say 2, and padding at the end of the array."
   ]
  },
  {
   "cell_type": "code",
   "execution_count": 11,
   "metadata": {},
   "outputs": [
    {
     "data": {
      "text/plain": [
       "array([1, 2, 3])"
      ]
     },
     "execution_count": 11,
     "metadata": {},
     "output_type": "execute_result"
    }
   ],
   "source": [
    "x = np.array([3, 0, 2, 0, 1, 0, 0, 0])\n",
    "N = 3\n",
    "incx = -2\n",
    "x[(N-1)*(-incx)::incx]"
   ]
  },
  {
   "cell_type": "markdown",
   "metadata": {},
   "source": [
    "In general, to recover the vector values of $x$ from a padded array `x`, we need to know the size of the vector $N$, and the spacing of the array values, `incx`. From these we can compute a `slice` object which will recover the vector values from the array `x`."
   ]
  },
  {
   "cell_type": "code",
   "execution_count": 12,
   "metadata": {},
   "outputs": [
    {
     "name": "stdout",
     "output_type": "stream",
     "text": [
      "[1 2 3]\n",
      "[1 2 3]\n",
      "[1 2 3]\n",
      "[1 2 3]\n",
      "[1 2 3]\n",
      "[1 2 3]\n"
     ]
    }
   ],
   "source": [
    "def slice_(N, inc):\n",
    "    if inc > 0:\n",
    "        return slice(None, N * inc, inc)\n",
    "    else:\n",
    "        return slice(-(N - 1) * inc, None, inc)\n",
    "\n",
    "N = 3\n",
    "# Standard array\n",
    "x = np.array([1, 2, 3])\n",
    "print(x[slice_(N, 1)])\n",
    "\n",
    "# Padded array\n",
    "x = np.array([1, 2, 3, 0, 0, 0])\n",
    "print(x[slice_(N, 1)])\n",
    "\n",
    "# Padded, strided array\n",
    "x = np.array([1, 0, 2, 0, 3, 0, 0, 0])\n",
    "print(x[slice_(N, 2)])\n",
    "\n",
    "# Reversed array\n",
    "x = np.array([3, 2, 1])\n",
    "print(x[slice_(N, -1)])\n",
    "\n",
    "# Reversed, padded array\n",
    "x = np.array([3, 2, 1, 0, 0, 0])\n",
    "print(x[slice_(N, -1)])\n",
    "\n",
    "# Reversed, padded, strided array\n",
    "x = np.array([3, 0, 2, 0, 1, 0, 0, 0, 0])\n",
    "print(x[slice_(N, -2)])\n"
   ]
  }
 ],
 "metadata": {
  "kernelspec": {
   "display_name": "Python 3",
   "language": "python",
   "name": "python3"
  },
  "language_info": {
   "codemirror_mode": {
    "name": "ipython",
    "version": 3
   },
   "file_extension": ".py",
   "mimetype": "text/x-python",
   "name": "python",
   "nbconvert_exporter": "python",
   "pygments_lexer": "ipython3",
   "version": "3.8.0"
  }
 },
 "nbformat": 4,
 "nbformat_minor": 4
}
